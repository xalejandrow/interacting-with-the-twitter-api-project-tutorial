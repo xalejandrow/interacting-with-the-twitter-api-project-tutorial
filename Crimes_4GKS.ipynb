{
  "cells": [
    {
      "cell_type": "markdown",
      "metadata": {
        "id": "view-in-github",
        "colab_type": "text"
      },
      "source": [
        "<a href=\"https://colab.research.google.com/github/xalejandrow/interacting-with-the-twitter-api-project-tutorial/blob/main/Crimes_4GKS.ipynb\" target=\"_parent\"><img src=\"https://colab.research.google.com/assets/colab-badge.svg\" alt=\"Open In Colab\"/></a>"
      ]
    },
    {
      "cell_type": "code",
      "execution_count": null,
      "metadata": {
        "id": "SDTSA8abfUsy"
      },
      "outputs": [],
      "source": [
        "import pandas as pd\n",
        "import numpy as np\n",
        "import matplotlib.pyplot as plt"
      ]
    },
    {
      "cell_type": "code",
      "execution_count": null,
      "metadata": {
        "id": "LkrHNxcCfUs1"
      },
      "outputs": [],
      "source": [
        "# 1. Read the dataset\n",
        "url = 'https://datos.cdmx.gob.mx/dataset/12d22477-bcf1-49ee-92aa-16a0d0a5817c/' + \\\n",
        "      'resource/3f308147-b1fc-49a9-92b7-e74f3f79aa9c/download/' + \\\n",
        "      'carpetas-de-investigacion-pgj-cdmx.csv'\n",
        "df = pd.read_csv(url)"
      ]
    },
    {
      "cell_type": "code",
      "execution_count": null,
      "metadata": {
        "id": "SZWtAgmsfUs2"
      },
      "outputs": [],
      "source": [
        "# 2. View the basic data structure and dimensions "
      ]
    },
    {
      "cell_type": "code",
      "execution_count": null,
      "metadata": {
        "id": "_07IAzNtfUs3"
      },
      "outputs": [],
      "source": [
        "# 3. Display some observations"
      ]
    },
    {
      "cell_type": "code",
      "execution_count": null,
      "metadata": {
        "id": "0eNA-s9DfUs4"
      },
      "outputs": [],
      "source": [
        "# We want only the mayors from Ciudad de Mexico\n"
      ]
    },
    {
      "cell_type": "code",
      "execution_count": null,
      "metadata": {
        "id": "9qV19rRLfUs5"
      },
      "outputs": [],
      "source": [
        "# Convert the values to the right type"
      ]
    },
    {
      "cell_type": "code",
      "execution_count": null,
      "metadata": {
        "id": "MYpNYhKVfUs6"
      },
      "outputs": [],
      "source": [
        "# Summarise the data, including dates"
      ]
    },
    {
      "cell_type": "code",
      "execution_count": null,
      "metadata": {
        "id": "J8crhGpxfUs6"
      },
      "outputs": [],
      "source": [
        "# How many crimes are recorded in this dataset? In which period?\n"
      ]
    },
    {
      "cell_type": "code",
      "execution_count": null,
      "metadata": {
        "id": "GXWjcHyhfUs7"
      },
      "outputs": [],
      "source": [
        "# How many crimes were recorded by year?"
      ]
    },
    {
      "cell_type": "code",
      "execution_count": null,
      "metadata": {
        "id": "-zeSp71ifUs8"
      },
      "outputs": [],
      "source": [
        "# Show the top 5 crimes"
      ]
    },
    {
      "cell_type": "code",
      "execution_count": null,
      "metadata": {
        "id": "R3uv8ksufUs9"
      },
      "outputs": [],
      "source": [
        "# Calculate the accumulated rate of the top 5 crimes"
      ]
    },
    {
      "cell_type": "code",
      "execution_count": null,
      "metadata": {
        "id": "kmRIxa4YfUs-"
      },
      "outputs": [],
      "source": [
        "# Which city has the most and the less crimes in the dataset?"
      ]
    },
    {
      "cell_type": "code",
      "execution_count": null,
      "metadata": {
        "id": "GIGvaHlSfUs-"
      },
      "outputs": [],
      "source": [
        "# In each city, what are the top 3 subcities (\"Colonias\") with most crimes?"
      ]
    },
    {
      "cell_type": "code",
      "execution_count": null,
      "metadata": {
        "id": "BhrXTN6ufUs-"
      },
      "outputs": [],
      "source": [
        "# Do you see a trend per month or day?"
      ]
    }
  ],
  "metadata": {
    "kernelspec": {
      "display_name": "Python 3.6.13 ('Commons')",
      "language": "python",
      "name": "python3"
    },
    "language_info": {
      "codemirror_mode": {
        "name": "ipython",
        "version": 3
      },
      "file_extension": ".py",
      "mimetype": "text/x-python",
      "name": "python",
      "nbconvert_exporter": "python",
      "pygments_lexer": "ipython3",
      "version": "3.6.13"
    },
    "orig_nbformat": 4,
    "vscode": {
      "interpreter": {
        "hash": "22cb16a68ed3755efd7facba972c712a32791f674b17b75d712aff04843af63e"
      }
    },
    "colab": {
      "name": "Crimes_4GKS.ipynb",
      "provenance": [],
      "include_colab_link": true
    }
  },
  "nbformat": 4,
  "nbformat_minor": 0
}